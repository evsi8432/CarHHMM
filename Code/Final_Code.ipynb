{
 "cells": [
  {
   "cell_type": "code",
   "execution_count": 1,
   "metadata": {},
   "outputs": [],
   "source": [
    "import pandas as pd\n",
    "import numpy as np\n",
    "import matplotlib.pyplot as plt\n",
    "import matplotlib.cm as cm\n",
    "\n",
    "from scipy.stats import gamma\n",
    "from scipy.stats import norm\n",
    "from scipy.stats import multivariate_normal\n",
    "from scipy.stats import gaussian_kde\n",
    "from scipy.special import expit\n",
    "from scipy.special import logsumexp\n",
    "from scipy.optimize import minimize\n",
    "from scipy.optimize import LinearConstraint\n",
    "from scipy.signal import convolve\n",
    "from scipy.interpolate import interp1d\n",
    "\n",
    "import divebomb\n",
    "\n",
    "import time\n",
    "import pickle\n",
    "\n",
    "import importlib\n",
    "\n",
    "np.random.seed(0)"
   ]
  },
  {
   "cell_type": "code",
   "execution_count": 2,
   "metadata": {},
   "outputs": [],
   "source": [
    "import Preprocessor\n",
    "import Parameters\n",
    "import HHMM\n",
    "import Visualisor"
   ]
  },
  {
   "cell_type": "code",
   "execution_count": 3,
   "metadata": {},
   "outputs": [],
   "source": [
    "pars = Parameters.Parameters()\n",
    "\n",
    "pars.features = [{'dive_duration':{'corr':False,'f':'gamma'}},\n",
    "                 {'FoVeDBA_low':{'thresh':5,'corr':True,'f':'gamma'}}]#,\n",
    "                  #'Vz':{'corr':True,'f':'normal'}}]\n",
    "\n",
    "prep = Preprocessor.Preprocessor(pars)"
   ]
  },
  {
   "cell_type": "code",
   "execution_count": 4,
   "metadata": {},
   "outputs": [],
   "source": [
    "np.set_printoptions(suppress=True,precision=4)"
   ]
  },
  {
   "cell_type": "code",
   "execution_count": 5,
   "metadata": {},
   "outputs": [
    {
     "name": "stdout",
     "output_type": "stream",
     "text": [
      "HHMM_k_3_3_dives_130_200_same_fine_states\n"
     ]
    }
   ],
   "source": [
    "s_dive = 130\n",
    "e_dive = 200\n",
    "pars.K[0] = 3\n",
    "pars.K[1] = 3\n",
    "pars.share_fine_states = True\n",
    "HHMM_file = 'HHMM_k_%s_%s_dives_%s_%s_same_fine_states' % (pars.K[0],pars.K[1],s_dive,e_dive)\n",
    "print(HHMM_file)"
   ]
  },
  {
   "cell_type": "markdown",
   "metadata": {},
   "source": [
    "# Preprocess Data"
   ]
  },
  {
   "cell_type": "code",
   "execution_count": null,
   "metadata": {},
   "outputs": [],
   "source": [
    "df = prep.load_data(pars.cvc_file,\n",
    "                    pars.csv_file,\n",
    "                    pars.cvc_cols)\n",
    "\n",
    "df = prep.prune_cols(df)\n",
    "\n",
    "df = prep.prune_times(df,\n",
    "                      pars.stime,\n",
    "                      pars.etime,\n",
    "                      pars.drop_times)\n",
    "\n",
    "df = prep.fix_pressure(df)\n",
    "\n",
    "df = prep.find_Vz(df)\n",
    "\n",
    "df = prep.smooth_columns(df,\n",
    "                         pars.smoother,\n",
    "                         pars.smooth_cols)\n",
    "\n",
    "df,dive_df = prep.find_dives(df)\n",
    "\n",
    "data = prep.get_all_features(df,dive_df)\n",
    "\n",
    "viz = Visualisor.Visualisor(pars,data,df)"
   ]
  },
  {
   "cell_type": "code",
   "execution_count": null,
   "metadata": {},
   "outputs": [],
   "source": [
    "viz.lagplot(lims={'peak_jerk':[0,50],\n",
    "                  'roll_at_pj':[0,1],\n",
    "                  'heading_var':[0,0.2],\n",
    "                  'FoVeDBA_low':[0,5000],\n",
    "                  'FoVeDBA_high':[0,10],\n",
    "                  'Vz':[-5,5]})"
   ]
  },
  {
   "cell_type": "markdown",
   "metadata": {},
   "source": [
    "# Train HHMM"
   ]
  },
  {
   "cell_type": "code",
   "execution_count": null,
   "metadata": {},
   "outputs": [],
   "source": [
    "deep_data = [data[i] for i in range(s_dive,e_dive)]\n",
    "importlib.reload(HHMM)\n",
    "hhmm = HHMM.HHMM(pars,deep_data)\n",
    "print(hhmm.likelihood(deep_data))\n",
    "\n",
    "# initial crude theta\n",
    "hhmm.theta[0]['dive_duration']['mu'][0] = 200\n",
    "hhmm.theta[0]['dive_duration']['sig'][0] = 100\n",
    "\n",
    "hhmm.theta[0]['dive_duration']['mu'][1] = 40\n",
    "hhmm.theta[0]['dive_duration']['sig'][1] = 20\n",
    "\n",
    "hhmm.theta[0]['dive_duration']['mu'][2] = 30\n",
    "hhmm.theta[0]['dive_duration']['sig'][2] = 15\n",
    "\n",
    "# inital fine theta\n",
    "#hhmm.theta[1][0]['FoVeDBA_low']['mu'][1] = 10\n",
    "#hhmm.theta[1][0]['FoVeDBA_low']['sig'][1] = 50\n",
    "#hhmm.theta[1][0]['FoVeDBA_low']['mu'][0] = 250\n",
    "#hhmm.theta[1][0]['FoVeDBA_low']['sig'][0] = 250\n",
    "\n",
    "#hhmm.theta[1][1]['FoVeDBA_low']['mu'][0] = 10\n",
    "#hhmm.theta[1][1]['FoVeDBA_low']['sig'][0] = 50\n",
    "#hhmm.theta[1][1]['FoVeDBA_low']['mu'][1] = 400\n",
    "#hhmm.theta[1][1]['FoVeDBA_low']['sig'][1] = 1000\n",
    "\n",
    "#hhmm.theta[1][2]['FoVeDBA_low']['mu'][1] = 10\n",
    "#hhmm.theta[1][2]['FoVeDBA_low']['sig'][1] = 50\n",
    "#hhmm.theta[1][2]['FoVeDBA_low']['mu'][0] = 250\n",
    "#hhmm.theta[1][2]['FoVeDBA_low']['sig'][0] = 250\n",
    "\n",
    "try:\n",
    "    hhmm = hhmm.load(HHMM_file)\n",
    "except:\n",
    "    print('HHMM not found. Training new model')\n",
    "    hhmm.train_DM(deep_data)\n",
    "    hhmm.save(HHMM_file)\n",
    "    \n",
    "data,df = hhmm.label_df(data,df)\n",
    "print(hhmm.likelihood(deep_data))"
   ]
  },
  {
   "cell_type": "markdown",
   "metadata": {},
   "source": [
    "# Visualize Results"
   ]
  },
  {
   "cell_type": "code",
   "execution_count": null,
   "metadata": {
    "scrolled": false
   },
   "outputs": [],
   "source": [
    "importlib.reload(Visualisor)\n",
    "viz = Visualisor.Visualisor(pars,data,df)\n",
    "viz.hhmm = hhmm\n",
    "viz.plot_emission_probs(0)\n",
    "viz.plot_emission_probs(1)\n",
    "viz.print_ptms()\n",
    "viz.plot_dive_features(130,200,['depth','VeDBA','subdive_state_1_prob','dive_state_2_prob'],\n",
    "                               ['FoVeDBA_low'])"
   ]
  },
  {
   "cell_type": "markdown",
   "metadata": {},
   "source": [
    "# Things to note:\n",
    "\n",
    "    - Subdive states are much less sure than dive types\n",
    "    - Subdive states are more uncertain in shallow dives than deep dives\n",
    "        - should probably make different dstribtuions within different dive types\n",
    "    - VeDBA is very different within shallow dives compared to deep dives\n",
    "        - support for activity-specific use of energy readings"
   ]
  },
  {
   "cell_type": "markdown",
   "metadata": {},
   "source": [
    "# Future Steps:\n",
    "\n",
    "    - Include other features (high-frequency VeDBA, roll, heading variance, peak jerk, etc.?)\n",
    "    - Use different subdive behaviors for different dive types\n",
    "    - Figure out what number of states in each level\n",
    "    - Write paper on fine-scale HHMMs and equivalence between correlated HMMs and continuous time models"
   ]
  }
 ],
 "metadata": {
  "kernelspec": {
   "display_name": "Python 3",
   "language": "python",
   "name": "python3"
  },
  "language_info": {
   "codemirror_mode": {
    "name": "ipython",
    "version": 3
   },
   "file_extension": ".py",
   "mimetype": "text/x-python",
   "name": "python",
   "nbconvert_exporter": "python",
   "pygments_lexer": "ipython3",
   "version": "3.7.6"
  }
 },
 "nbformat": 4,
 "nbformat_minor": 4
}
